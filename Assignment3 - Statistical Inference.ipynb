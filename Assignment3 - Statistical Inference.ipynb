{
 "cells": [
  {
   "cell_type": "markdown",
   "id": "93e1d66b-553e-4481-817d-650c7c219eaa",
   "metadata": {},
   "source": [
    "# Q1"
   ]
  },
  {
   "cell_type": "code",
   "execution_count": 13,
   "id": "4bc16f0a-db01-4bbb-9014-4183474801bf",
   "metadata": {},
   "outputs": [],
   "source": [
    "import numpy as np\n",
    "from scipy.stats import norm\n",
    "from scipy.stats import chisquare"
   ]
  },
  {
   "cell_type": "code",
   "execution_count": 2,
   "id": "dc76ba25-e2a5-490a-86ad-8a2b7565b36b",
   "metadata": {},
   "outputs": [],
   "source": [
    "mu = 0.147    \n",
    "sigma = 0.33 "
   ]
  },
  {
   "cell_type": "code",
   "execution_count": 7,
   "id": "0774ae17-cdb1-4fca-bfa5-be5ad5b7a783",
   "metadata": {},
   "outputs": [
    {
     "name": "stdout",
     "output_type": "stream",
     "text": [
      "-0.44545454545454544\n",
      "0.3279956507031998\n"
     ]
    }
   ],
   "source": [
    "# 1) Probability \n",
    "z_loss = (0 - mu) / sigma\n",
    "p_loss = norm.cdf(z_loss)\n",
    "print(z_loss)\n",
    "print(p_loss)"
   ]
  },
  {
   "cell_type": "code",
   "execution_count": 6,
   "id": "75a31314-eab8-44b1-a21c-a61c81f646ee",
   "metadata": {},
   "outputs": [
    {
     "name": "stdout",
     "output_type": "stream",
     "text": [
      "1.0364333894937894\n",
      "0.4890230185329505\n"
     ]
    }
   ],
   "source": [
    "# 2) Cutoff \n",
    "z_85 = norm.ppf(0.85)\n",
    "cutoff = mu + z_85 * sigma\n",
    "print(z_85)\n",
    "print(cutoff)"
   ]
  },
  {
   "cell_type": "code",
   "execution_count": 5,
   "id": "e9ccd2f7-e604-4251-a4e0-c3fd5ffa0cc5",
   "metadata": {},
   "outputs": [
    {
     "name": "stdout",
     "output_type": "stream",
     "text": [
      "Z for loss: -0.4455\n",
      "Probability of losing money: 32.80%\n",
      "Cutoff for top 15% of returns: 48.90%\n"
     ]
    }
   ],
   "source": [
    "# Results\n",
    "print(f\"Z for loss: {z_loss:.4f}\")\n",
    "print(f\"Probability of losing money: {p_loss*100:.2f}%\")\n",
    "print(f\"Cutoff for top 15% of returns: {cutoff*100:.2f}%\")"
   ]
  },
  {
   "cell_type": "markdown",
   "id": "803ca08a-e3ad-4519-9a1c-0df46166d3d7",
   "metadata": {},
   "source": [
    "# Q2"
   ]
  },
  {
   "cell_type": "code",
   "execution_count": 8,
   "id": "ba07c67d-e9cf-4024-b063-6b143abcbcdf",
   "metadata": {},
   "outputs": [],
   "source": [
    "mu2, sigma2, n, xbar = 20, 6, 20, 14\n",
    "alpha = 0.10"
   ]
  },
  {
   "cell_type": "code",
   "execution_count": 9,
   "id": "10bc4ee2-a4d9-4480-bcab-97df53e9df91",
   "metadata": {},
   "outputs": [],
   "source": [
    "SE = sigma2 / np.sqrt(n)\n",
    "z = (xbar - mu2) / SE\n",
    "p_value = norm.cdf(z)"
   ]
  },
  {
   "cell_type": "code",
   "execution_count": 10,
   "id": "fe5c45b8-ee9d-4198-a1dd-d7439c256e46",
   "metadata": {},
   "outputs": [
    {
     "name": "stdout",
     "output_type": "stream",
     "text": [
      "Z = -4.472,  p-value = 0.000004\n",
      "→ Reject H0: effective system\n"
     ]
    }
   ],
   "source": [
    "print(f\"Z = {z:.3f},  p-value = {p_value:.6f}\")\n",
    "print(\"→ Reject H0: effective system\" if p_value < alpha else \"→ Fail to reject H0\")"
   ]
  },
  {
   "cell_type": "code",
   "execution_count": 20,
   "id": "068d0bd5-9ba0-42a3-bbb1-afb033ae2feb",
   "metadata": {},
   "outputs": [
    {
     "name": "stdout",
     "output_type": "stream",
     "text": [
      "z_alpha=-1.2815515655446004\n",
      "c=18.280618149662597\n"
     ]
    }
   ],
   "source": [
    "mu_true = 16\n",
    "z_alpha = norm.ppf(alpha)\n",
    "print(\"z_alpha=\"+ str(z_alpha))\n",
    "c = mu2 + z_alpha * SE\n",
    "print(\"c=\" + str(c))\n",
    "beta = 1 - norm.cdf((c - mu_true) / SE)\n",
    "power = 1 - beta"
   ]
  },
  {
   "cell_type": "code",
   "execution_count": 12,
   "id": "566b9a6b-c014-4d3a-87da-4e311dd14eb4",
   "metadata": {},
   "outputs": [
    {
     "name": "stdout",
     "output_type": "stream",
     "text": [
      "\n",
      "Critical cutoff = 18.281\n",
      "Type-II error β = 4.46%\n",
      "Power = 95.54%\n"
     ]
    }
   ],
   "source": [
    "print(f\"\\nCritical cutoff = {c:.3f}\")\n",
    "print(f\"Type-II error β = {beta*100:.2f}%\")\n",
    "print(f\"Power = {power*100:.2f}%\")"
   ]
  },
  {
   "cell_type": "markdown",
   "id": "4b2c3b2a-7fd6-4d15-b0a8-549bddd7e6cd",
   "metadata": {},
   "source": [
    "# Q3"
   ]
  },
  {
   "cell_type": "code",
   "execution_count": 27,
   "id": "296096d5-4c9d-4623-bbce-3d06ecbc753c",
   "metadata": {},
   "outputs": [
    {
     "data": {
      "text/plain": [
       "array([717, 369, 155,  69,  28,  14,  10])"
      ]
     },
     "execution_count": 27,
     "metadata": {},
     "output_type": "execute_result"
    }
   ],
   "source": [
    "observed = np.array([717, 369, 155, 69, 28, 14, 10])\n",
    "N = observed.sum()\n",
    "p = 0.545\n",
    "q = 1 - p\n",
    "observed\n"
   ]
  },
  {
   "cell_type": "code",
   "execution_count": 35,
   "id": "73e2533a-0309-48c3-9944-8f3eb312c3b2",
   "metadata": {},
   "outputs": [
    {
     "name": "stdout",
     "output_type": "stream",
     "text": [
      "0.9911270429368594\n",
      "[0.545, 0.247975, 0.11282862499999999, 0.05133702437499999, 0.023358346090624996, 0.01062804747123437, 0.00887295706314062]\n"
     ]
    },
    {
     "data": {
      "text/plain": [
       "1.0"
      ]
     },
     "execution_count": 35,
     "metadata": {},
     "output_type": "execute_result"
    }
   ],
   "source": [
    "# expected probabilities\n",
    "probs = [(q**(k-1))*p for k in range(1,7)]\n",
    "print(sum(probs))\n",
    "probs.append(q**6)  # P(X≥7)\n",
    "print(probs)\n",
    "sum(probs)"
   ]
  },
  {
   "cell_type": "code",
   "execution_count": 37,
   "id": "a98d8dd7-371e-4bed-91a3-a9d4793acd93",
   "metadata": {},
   "outputs": [
    {
     "data": {
      "text/plain": [
       "array([742.29      , 337.74195   , 153.67258725,  69.9210272 ,\n",
       "        31.81406738,  14.47540066,  12.08496752])"
      ]
     },
     "execution_count": 37,
     "metadata": {},
     "output_type": "execute_result"
    }
   ],
   "source": [
    "probs = np.array(probs)\n",
    "expected = N * probs\n",
    "expected"
   ]
  },
  {
   "cell_type": "code",
   "execution_count": 38,
   "id": "c4f7aa8e-e2db-43e6-a11b-6c1b7361159b",
   "metadata": {},
   "outputs": [],
   "source": [
    "chi2_stat, p_val = chisquare(f_obs=observed, f_exp=expected)\n",
    "df = len(observed) - 1"
   ]
  },
  {
   "cell_type": "code",
   "execution_count": 39,
   "id": "9702dfbf-a290-4f0c-bbb3-c0c0811ee48d",
   "metadata": {},
   "outputs": [
    {
     "name": "stdout",
     "output_type": "stream",
     "text": [
      "Chi-square statistic = 4.611\n",
      "Degrees of freedom = 6\n",
      "P-value = 0.5946\n",
      "Fail to reject H0 → geometric model fits the data.\n"
     ]
    }
   ],
   "source": [
    "print(f\"Chi-square statistic = {chi2_stat:.3f}\")\n",
    "print(f\"Degrees of freedom = {df}\")\n",
    "print(f\"P-value = {p_val:.4f}\")\n",
    "\n",
    "if p_val < 0.05:\n",
    "    print(\"Reject H0 → geometric model does not fit.\")\n",
    "else:\n",
    "    print(\"Fail to reject H0 → geometric model fits the data.\")"
   ]
  },
  {
   "cell_type": "code",
   "execution_count": null,
   "id": "32c470a1-64ad-4ef2-a406-1ba471d9e0a7",
   "metadata": {},
   "outputs": [],
   "source": []
  }
 ],
 "metadata": {
  "kernelspec": {
   "display_name": "Python [conda env:anaconda3]",
   "language": "python",
   "name": "conda-env-anaconda3-py"
  },
  "language_info": {
   "codemirror_mode": {
    "name": "ipython",
    "version": 3
   },
   "file_extension": ".py",
   "mimetype": "text/x-python",
   "name": "python",
   "nbconvert_exporter": "python",
   "pygments_lexer": "ipython3",
   "version": "3.12.7"
  }
 },
 "nbformat": 4,
 "nbformat_minor": 5
}
