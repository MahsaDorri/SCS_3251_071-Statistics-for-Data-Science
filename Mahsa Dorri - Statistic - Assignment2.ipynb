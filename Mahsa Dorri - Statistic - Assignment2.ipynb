{
 "cells": [
  {
   "cell_type": "code",
   "execution_count": 4,
   "id": "37d8b29c-9132-4efa-bb68-073e60517b2f",
   "metadata": {},
   "outputs": [],
   "source": [
    "import random"
   ]
  },
  {
   "cell_type": "code",
   "execution_count": 5,
   "id": "f1f211a4-ed9e-40ce-8885-081f0efbe17a",
   "metadata": {},
   "outputs": [],
   "source": [
    "# Number of stimulations and variables for wins in 2 different way.\n",
    "N = 1000\n",
    "stay_wins = 0\n",
    "switch_wins = 0"
   ]
  },
  {
   "cell_type": "code",
   "execution_count": 10,
   "id": "99ba612e-422d-44d8-93db-be582062e7aa",
   "metadata": {},
   "outputs": [
    {
     "name": "stdout",
     "output_type": "stream",
     "text": [
      "Staying with the original door wins: 652 times\n",
      "Switching to the other door wins:    1348 times\n"
     ]
    }
   ],
   "source": [
    "# Define a for loop for 1000 stimulations.\n",
    "for i in range(N):\n",
    "        doors = [\"goat\",\"goat\",\"goat\"]\n",
    "        # Define a random position for the car.\n",
    "        car_position = random.randint(0,2)\n",
    "        doors[car_position]= \"car\"\n",
    "        # player chooses randomly \n",
    "        player_choice = random.randint(0, 2)\n",
    "        possible_doors_to_open = [i for i in range(3) if i != player_choice and doors[i] == \"goat\"]\n",
    "        host_opens = random.choice(possible_doors_to_open)\n",
    "        # last unopen\n",
    "        remaining_doors = [i for i in range(3) if i not in [player_choice, host_opens]]\n",
    "        switch_choice = remaining_doors[0]\n",
    "     # Step 5: Determine wins\n",
    "        if doors[player_choice] == \"car\":\n",
    "            stay_wins += 1\n",
    "        if doors[switch_choice] == \"car\":\n",
    "            switch_wins += 1\n",
    "\n",
    "print(f\"Staying with the original door wins: {stay_wins} times\")\n",
    "print(f\"Switching to the other door wins:    {switch_wins} times\")\n"
   ]
  },
  {
   "cell_type": "code",
   "execution_count": null,
   "id": "efea935a-c18c-4e67-9a91-2fe5c5b1b592",
   "metadata": {},
   "outputs": [],
   "source": []
  }
 ],
 "metadata": {
  "kernelspec": {
   "display_name": "Python [conda env:anaconda3]",
   "language": "python",
   "name": "conda-env-anaconda3-py"
  },
  "language_info": {
   "codemirror_mode": {
    "name": "ipython",
    "version": 3
   },
   "file_extension": ".py",
   "mimetype": "text/x-python",
   "name": "python",
   "nbconvert_exporter": "python",
   "pygments_lexer": "ipython3",
   "version": "3.12.7"
  }
 },
 "nbformat": 4,
 "nbformat_minor": 5
}
